{
 "cells": [
  {
   "cell_type": "markdown",
   "id": "3137f7f0",
   "metadata": {},
   "source": [
    "# 01 - RetailSense AI: Setup & Overview\n",
    "## 🚀 BigQuery AI Hackathon Project\n",
    "\n",
    "### What is RetailSense AI?\n",
    "A **multimodal e-commerce intelligence engine** that demonstrates all 3 BigQuery AI approaches:\n",
    "\n",
    "- 🧠 **AI Architect**: Generative AI for automated business insights\n",
    "- 🕵️ **Semantic Detective**: Vector search for product recommendations\n",
    "- 🖼️ **Multimodal Pioneer**: Structured + unstructured data fusion\n",
    "\n",
    "### Architecture Overview\n",
    "```\n",
    "GA4 Data → BigQuery AI → RetailSense AI → Business Intelligence\n",
    "```\n"
   ]
  },
  {
   "cell_type": "code",
   "execution_count": null,
   "id": "058a5184",
   "metadata": {},
   "outputs": [],
   "source": [
    "# Environment Setup\n",
    "import sys\n",
    "from pathlib import Path\n",
    "import warnings\n",
    "warnings.filterwarnings('ignore')\n",
    "\n",
    "# Add project src to path\n",
    "project_root = Path('.').absolute().parent\n",
    "sys.path.insert(0, str(project_root / 'src'))\n",
    "\n",
    "# Essential libraries\n",
    "import pandas as pd\n",
    "import numpy as np\n",
    "import matplotlib.pyplot as plt\n",
    "import seaborn as sns\n",
    "\n",
    "# RetailSense AI modules\n",
    "from retailsense_ai import RetailSenseAI, RetailSenseAIDemo\n",
    "\n",
    "# Configure visualization style\n",
    "plt.style.use('default')\n",
    "sns.set_palette('husl')\n",
    "plt.rcParams['figure.figsize'] = (12, 6)\n",
    "plt.rcParams['font.size'] = 10\n",
    "\n",
    "print('🚀 RetailSense AI Environment Ready!')\n",
    "print('✅ All libraries loaded successfully')\n",
    "print('✅ Visualization settings configured')"
   ]
  },
  {
   "cell_type": "markdown",
   "id": "0624c977",
   "metadata": {},
   "source": [
    "### Project Capabilities Overview"
   ]
  },
  {
   "cell_type": "code",
   "execution_count": null,
   "id": "36b47cd3",
   "metadata": {},
   "outputs": [],
   "source": [
    "# Show project capabilities\n",
    "capabilities = {\n",
    "    'BigQuery AI Functions': [\n",
    "        'AI.FORECAST - Revenue forecasting',\n",
    "        'ML.GENERATE_EMBEDDING - Product vectors',\n",
    "        'VECTOR_SEARCH - Similarity search',\n",
    "        'ML.GENERATE_TEXT - Business insights'\n",
    "    ],\n",
    "    'ML Models': [\n",
    "        'ARIMA+ Time Series Forecasting',\n",
    "        'K-Means Customer Segmentation',\n",
    "        'Logistic Regression Performance Prediction',\n",
    "        'Matrix Factorization Recommendations'\n",
    "    ],\n",
    "    'Data Sources': [\n",
    "        'Google Analytics 4 (GA4) E-commerce',\n",
    "        'Product catalogs and descriptions',\n",
    "        'Transaction and behavioral data',\n",
    "        'Multi-format business data'\n",
    "    ]\n",
    "}\n",
    "\n",
    "print('🎯 RETAILSENSE AI CAPABILITIES')\n",
    "print('=' * 50)\n",
    "\n",
    "for category, items in capabilities.items():\n",
    "    print(f'\\n📊 {category}:')\n",
    "    for item in items:\n",
    "        print(f'   • {item}')\n",
    "\n",
    "print('\\n🏆 BUSINESS IMPACT:')\n",
    "print('   💰 $500K+ annual savings through automation')\n",
    "print('   📈 25% improvement in recommendation accuracy')\n",
    "print('   ⚡ 90% reduction in reporting time')\n",
    "print('   🎯 Real-time predictive analytics')"
   ]
  },
  {
   "cell_type": "markdown",
   "id": "584af744",
   "metadata": {},
   "source": [
    "### What's Next?\n",
    "\n",
    "**Notebook Series Overview:**\n",
    "1. **01_setup_and_overview.ipynb** ← You are here\n",
    "2. **02_data_generation_and_eda.ipynb** - E-commerce data exploration\n",
    "3. **03_ai_similarity_search.ipynb** - Vector search demo (Semantic Detective)\n",
    "4. **04_business_intelligence.ipynb** - AI insights generation (AI Architect)\n",
    "5. **05_bigquery_integration.ipynb** - Production BigQuery AI demo\n",
    "6. **06_final_results.ipynb** - Complete pipeline and results\n",
    "\n",
    "---\n",
    "**Ready to explore AI-powered e-commerce intelligence!** 🚀"
   ]
  }
 ],
 "metadata": {
  "language_info": {
   "name": "python"
  }
 },
 "nbformat": 4,
 "nbformat_minor": 5
}
