{
 "cells": [
  {
   "cell_type": "markdown",
   "id": "dec6a5c1",
   "metadata": {},
   "source": [
    "# 🛒 RetailSense AI: Complete Demo\n",
    "## *Multimodal E-commerce Intelligence with BigQuery AI*\n",
    "\n",
    "This notebook demonstrates RetailSense AI's complete pipeline using BigQuery's cutting-edge AI capabilities:\n",
    "\n",
    "🧠 **Approach 1: AI Architect** - Generative AI for business intelligence\n",
    "🕵️ **Approach 2: Semantic Detective** - Vector search for product recommendations\n",
    "🖼️ **Approach 3: Multimodal Pioneer** - Unified structured + unstructured analytics\n",
    "\n",
    "---"
   ]
  },
  {
   "cell_type": "code",
   "execution_count": null,
   "id": "af89520a",
   "metadata": {},
   "outputs": [],
   "source": [
    "# Import required libraries\n",
    "import sys\n",
    "import os\n",
    "from pathlib import Path\n",
    "\n",
    "# Add src to path\n",
    "project_root = Path('.').absolute().parent\n",
    "sys.path.insert(0, str(project_root / 'src'))\n",
    "\n",
    "# Data science libraries\n",
    "import pandas as pd\n",
    "import numpy as np\n",
    "import matplotlib.pyplot as plt\n",
    "import seaborn as sns\n",
    "from datetime import datetime, timedelta\n",
    "import warnings\n",
    "warnings.filterwarnings('ignore')\n",
    "\n",
    "# RetailSense AI modules\n",
    "from retailsense_ai import RetailSenseAI, RetailSenseAIDemo\n",
    "\n",
    "# Configure plotting\n",
    "plt.style.use('default')\n",
    "sns.set_palette('husl')\n",
    "plt.rcParams['figure.figsize'] = (12, 8)\n",
    "plt.rcParams['font.size'] = 11\n",
    "\n",
    "print('🚀 RetailSense AI Demo Environment Ready!')\n",
    "print('   Libraries loaded successfully')\n",
    "print('   Visualization settings configured')"
   ]
  },
  {
   "cell_type": "markdown",
   "id": "c5113728",
   "metadata": {},
   "source": [
    "## 🎯 Demo Overview\n",
    "\n",
    "We'll demonstrate two modes:\n",
    "1. **Offline Demo** - Synthetic data showcasing core AI capabilities\n",
    "2. **BigQuery Integration** - Real GA4 data with production ML models\n",
    "\n",
    "Let's start with the offline demo to understand the concepts, then scale to BigQuery AI."
   ]
  },
  {
   "cell_type": "markdown",
   "id": "7bce5ca1",
   "metadata": {},
   "source": [
    "---\n",
    "# 📊 Part 1: Offline Demo - Core AI Capabilities\n",
    "\n",
    "First, let's demonstrate RetailSense AI's intelligence using synthetic e-commerce data."
   ]
  },
  {
   "cell_type": "code",
   "execution_count": null,
   "id": "dfd38cb6",
   "metadata": {},
   "outputs": [],
   "source": [
    "# Initialize RetailSense AI Demo\n",
    "demo = RetailSenseAIDemo()\n",
    "\n",
    "# Generate sample e-commerce data\n",
    "print('\\n📊 Generating E-commerce Dataset...')\n",
    "products_df = demo.create_sample_data(n_products=100)\n",
    "\n",
    "# Display sample data\n",
    "print('\\n🔍 Sample Product Data:')\n",
    "display(products_df.head(10))\n",
    "\n",
    "# Key metrics summary\n",
    "total_revenue = products_df['total_revenue'].sum()\n",
    "avg_conversion = products_df['view_to_purchase_rate'].mean()\n",
    "\n",
    "print(f'\\n📈 Dataset Summary:')\n",
    "print(f'   📦 Products: {len(products_df):,}')\n",
    "print(f'   💰 Total Revenue: ${total_revenue:,.2f}')\n",
    "print(f'   📊 Avg Conversion: {avg_conversion*100:.2f}%')\n",
    "print(f'   🏷️  Categories: {products_df[\"category\"].nunique()}')"
   ]
  }
 ],
 "metadata": {
  "kernelspec": {
   "display_name": ".venv",
   "language": "python",
   "name": "python3"
  },
  "language_info": {
   "name": "python",
   "version": "3.11.12"
  }
 },
 "nbformat": 4,
 "nbformat_minor": 5
}
